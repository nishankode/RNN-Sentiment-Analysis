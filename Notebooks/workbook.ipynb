{
 "cells": [
  {
   "cell_type": "code",
   "execution_count": 3,
   "metadata": {},
   "outputs": [],
   "source": [
    "from tensorflow.keras.preprocessing.text import one_hot"
   ]
  },
  {
   "cell_type": "code",
   "execution_count": 4,
   "metadata": {},
   "outputs": [],
   "source": [
    "### sentences\n",
    "sent=[  'the glass of milk',\n",
    "     'the glass of juice',\n",
    "     'the cup of tea',\n",
    "    'I am a good boy',\n",
    "     'I am a good developer',\n",
    "     'understand the meaning of words',\n",
    "     'your videos are good',]"
   ]
  },
  {
   "cell_type": "code",
   "execution_count": 6,
   "metadata": {},
   "outputs": [],
   "source": [
    "# Defining Vocabulary Size\n",
    "voc_size = 10000"
   ]
  },
  {
   "cell_type": "code",
   "execution_count": 12,
   "metadata": {},
   "outputs": [],
   "source": [
    "# One hot representation\n",
    "onehot_rep = [one_hot(words, voc_size) for words in sent]"
   ]
  },
  {
   "cell_type": "code",
   "execution_count": 11,
   "metadata": {},
   "outputs": [],
   "source": [
    "# Word Embedding representation\n",
    "from tensorflow.keras.layers import Embedding\n",
    "from tensorflow.keras.preprocessing.sequence import pad_sequences\n",
    "from tensorflow.keras.models import Sequential\n",
    "\n",
    "import numpy as np"
   ]
  },
  {
   "cell_type": "code",
   "execution_count": 16,
   "metadata": {},
   "outputs": [],
   "source": [
    "enbedded_docs = pad_sequences(onehot_rep, padding='pre', maxlen=8)"
   ]
  },
  {
   "cell_type": "code",
   "execution_count": 17,
   "metadata": {},
   "outputs": [
    {
     "data": {
      "text/plain": [
       "array([[   0,    0,    0,    0, 1772, 9442, 5423, 5845],\n",
       "       [   0,    0,    0,    0, 1772, 9442, 5423, 5174],\n",
       "       [   0,    0,    0,    0, 1772, 7852, 5423, 6813],\n",
       "       [   0,    0,    0, 7044, 1221, 6677, 9139, 4198],\n",
       "       [   0,    0,    0, 7044, 1221, 6677, 9139, 3891],\n",
       "       [   0,    0,    0, 7621, 1772, 5518, 5423, 7091],\n",
       "       [   0,    0,    0,    0, 7866, 7373,  342, 9139]])"
      ]
     },
     "execution_count": 17,
     "metadata": {},
     "output_type": "execute_result"
    }
   ],
   "source": [
    "enbedded_docs"
   ]
  },
  {
   "cell_type": "code",
   "execution_count": 18,
   "metadata": {},
   "outputs": [],
   "source": [
    "# Feature Representation\n",
    "dim = 10"
   ]
  },
  {
   "cell_type": "code",
   "execution_count": 19,
   "metadata": {},
   "outputs": [],
   "source": [
    "model = Sequential()\n",
    "model.add(Embedding(voc_size, dim, input_length=8))\n",
    "model.compile('adam', 'mse')"
   ]
  },
  {
   "cell_type": "code",
   "execution_count": 20,
   "metadata": {},
   "outputs": [
    {
     "name": "stdout",
     "output_type": "stream",
     "text": [
      "Model: \"sequential\"\n",
      "_________________________________________________________________\n",
      " Layer (type)                Output Shape              Param #   \n",
      "=================================================================\n",
      " embedding (Embedding)       (None, 8, 10)             100000    \n",
      "                                                                 \n",
      "=================================================================\n",
      "Total params: 100,000\n",
      "Trainable params: 100,000\n",
      "Non-trainable params: 0\n",
      "_________________________________________________________________\n"
     ]
    }
   ],
   "source": [
    "model.summary()"
   ]
  },
  {
   "cell_type": "code",
   "execution_count": 24,
   "metadata": {},
   "outputs": [
    {
     "name": "stdout",
     "output_type": "stream",
     "text": [
      "1/1 [==============================] - 0s 19ms/step\n"
     ]
    },
    {
     "data": {
      "text/plain": [
       "array([[ 0.02842255,  0.04547879,  0.01629752, -0.0391674 ,  0.0073495 ,\n",
       "        -0.01368492,  0.03695172,  0.04633237,  0.00200832,  0.02413148],\n",
       "       [ 0.02842255,  0.04547879,  0.01629752, -0.0391674 ,  0.0073495 ,\n",
       "        -0.01368492,  0.03695172,  0.04633237,  0.00200832,  0.02413148],\n",
       "       [ 0.02842255,  0.04547879,  0.01629752, -0.0391674 ,  0.0073495 ,\n",
       "        -0.01368492,  0.03695172,  0.04633237,  0.00200832,  0.02413148],\n",
       "       [ 0.02842255,  0.04547879,  0.01629752, -0.0391674 ,  0.0073495 ,\n",
       "        -0.01368492,  0.03695172,  0.04633237,  0.00200832,  0.02413148],\n",
       "       [ 0.02742063, -0.00676336,  0.03910905,  0.01534952,  0.03262326,\n",
       "        -0.01581094,  0.04207755,  0.04361891,  0.02636487,  0.02996819],\n",
       "       [ 0.03572178, -0.04182916, -0.03000736,  0.02568963, -0.04881251,\n",
       "        -0.04181252,  0.02788394,  0.02204723, -0.04899475, -0.00125771],\n",
       "       [ 0.01926354,  0.00813578, -0.01384292, -0.0180288 ,  0.03074979,\n",
       "         0.04407835, -0.00374266,  0.04083738,  0.03165135,  0.03770724],\n",
       "       [ 0.02085278,  0.00312438,  0.02894027,  0.0141637 , -0.03798928,\n",
       "        -0.03987452, -0.04251832, -0.01279678,  0.03549767,  0.04839339]],\n",
       "      dtype=float32)"
      ]
     },
     "execution_count": 24,
     "metadata": {},
     "output_type": "execute_result"
    }
   ],
   "source": [
    "model.predict(enbedded_docs[0])"
   ]
  },
  {
   "cell_type": "code",
   "execution_count": null,
   "metadata": {},
   "outputs": [],
   "source": []
  }
 ],
 "metadata": {
  "kernelspec": {
   "display_name": "tfgpu",
   "language": "python",
   "name": "python3"
  },
  "language_info": {
   "codemirror_mode": {
    "name": "ipython",
    "version": 3
   },
   "file_extension": ".py",
   "mimetype": "text/x-python",
   "name": "python",
   "nbconvert_exporter": "python",
   "pygments_lexer": "ipython3",
   "version": "3.9.21"
  }
 },
 "nbformat": 4,
 "nbformat_minor": 2
}
